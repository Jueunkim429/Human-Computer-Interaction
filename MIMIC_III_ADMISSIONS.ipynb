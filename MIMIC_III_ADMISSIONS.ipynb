{
  "cells": [
    {
      "cell_type": "markdown",
      "metadata": {
        "id": "view-in-github",
        "colab_type": "text"
      },
      "source": [
        "<a href=\"https://colab.research.google.com/github/Jueunkim429/Colab-Notebooks/blob/main/MIMIC_III_ADMISSIONS.ipynb\" target=\"_parent\"><img src=\"https://colab.research.google.com/assets/colab-badge.svg\" alt=\"Open In Colab\"/></a>"
      ]
    },
    {
      "cell_type": "markdown",
      "id": "39cbacb3",
      "metadata": {
        "id": "39cbacb3"
      },
      "source": [
        "# 1. 데이터 가공"
      ]
    },
    {
      "cell_type": "markdown",
      "id": "ea128fb1",
      "metadata": {
        "id": "ea128fb1"
      },
      "source": [
        "## 1) 총 환자수"
      ]
    },
    {
      "cell_type": "code",
      "execution_count": null,
      "id": "0bb3743c",
      "metadata": {
        "colab": {
          "base_uri": "https://localhost:8080/",
          "height": 388
        },
        "id": "0bb3743c",
        "outputId": "5bf8f4f0-1a6f-470f-e630-39666dc04641"
      },
      "outputs": [
        {
          "output_type": "execute_result",
          "data": {
            "text/plain": [
              "        subject_id  hadm_id            admittime            dischtime  \\\n",
              "row_id                                                                  \n",
              "12258        10006   142345  2164-10-23 21:09:00  2164-11-01 17:15:00   \n",
              "12263        10011   105331  2126-08-14 22:32:00  2126-08-28 18:59:00   \n",
              "12265        10013   165520  2125-10-04 23:36:00  2125-10-07 15:13:00   \n",
              "12269        10017   199207  2149-05-26 17:19:00  2149-06-03 18:42:00   \n",
              "12270        10019   177759  2163-05-14 20:43:00  2163-05-15 12:00:00   \n",
              "\n",
              "                  deathtime admission_type         admission_location  \\\n",
              "row_id                                                                  \n",
              "12258                   NaN      EMERGENCY       EMERGENCY ROOM ADMIT   \n",
              "12263   2126-08-28 18:59:00      EMERGENCY  TRANSFER FROM HOSP/EXTRAM   \n",
              "12265   2125-10-07 15:13:00      EMERGENCY  TRANSFER FROM HOSP/EXTRAM   \n",
              "12269                   NaN      EMERGENCY       EMERGENCY ROOM ADMIT   \n",
              "12270   2163-05-15 12:00:00      EMERGENCY  TRANSFER FROM HOSP/EXTRAM   \n",
              "\n",
              "       discharge_location insurance language  religion marital_status  \\\n",
              "row_id                                                                  \n",
              "12258    HOME HEALTH CARE  Medicare      NaN  CATHOLIC      SEPARATED   \n",
              "12263        DEAD/EXPIRED   Private      NaN  CATHOLIC         SINGLE   \n",
              "12265        DEAD/EXPIRED  Medicare      NaN  CATHOLIC            NaN   \n",
              "12269                 SNF  Medicare      NaN  CATHOLIC       DIVORCED   \n",
              "12270        DEAD/EXPIRED  Medicare      NaN  CATHOLIC       DIVORCED   \n",
              "\n",
              "                     ethnicity            edregtime            edouttime  \\\n",
              "row_id                                                                     \n",
              "12258   BLACK/AFRICAN AMERICAN  2164-10-23 16:43:00  2164-10-23 23:00:00   \n",
              "12263    UNKNOWN/NOT SPECIFIED                  NaN                  NaN   \n",
              "12265    UNKNOWN/NOT SPECIFIED                  NaN                  NaN   \n",
              "12269                    WHITE  2149-05-26 12:08:00  2149-05-26 19:45:00   \n",
              "12270                    WHITE                  NaN                  NaN   \n",
              "\n",
              "                  diagnosis  hospital_expire_flag  has_chartevents_data  \n",
              "row_id                                                                   \n",
              "12258                SEPSIS                     0                     1  \n",
              "12263           HEPATITIS B                     1                     1  \n",
              "12265                SEPSIS                     1                     1  \n",
              "12269      HUMERAL FRACTURE                     0                     1  \n",
              "12270   ALCOHOLIC HEPATITIS                     1                     1  "
            ],
            "text/html": [
              "\n",
              "  <div id=\"df-0680fac6-ce34-4b95-8ae6-506f0c3fad9f\">\n",
              "    <div class=\"colab-df-container\">\n",
              "      <div>\n",
              "<style scoped>\n",
              "    .dataframe tbody tr th:only-of-type {\n",
              "        vertical-align: middle;\n",
              "    }\n",
              "\n",
              "    .dataframe tbody tr th {\n",
              "        vertical-align: top;\n",
              "    }\n",
              "\n",
              "    .dataframe thead th {\n",
              "        text-align: right;\n",
              "    }\n",
              "</style>\n",
              "<table border=\"1\" class=\"dataframe\">\n",
              "  <thead>\n",
              "    <tr style=\"text-align: right;\">\n",
              "      <th></th>\n",
              "      <th>subject_id</th>\n",
              "      <th>hadm_id</th>\n",
              "      <th>admittime</th>\n",
              "      <th>dischtime</th>\n",
              "      <th>deathtime</th>\n",
              "      <th>admission_type</th>\n",
              "      <th>admission_location</th>\n",
              "      <th>discharge_location</th>\n",
              "      <th>insurance</th>\n",
              "      <th>language</th>\n",
              "      <th>religion</th>\n",
              "      <th>marital_status</th>\n",
              "      <th>ethnicity</th>\n",
              "      <th>edregtime</th>\n",
              "      <th>edouttime</th>\n",
              "      <th>diagnosis</th>\n",
              "      <th>hospital_expire_flag</th>\n",
              "      <th>has_chartevents_data</th>\n",
              "    </tr>\n",
              "    <tr>\n",
              "      <th>row_id</th>\n",
              "      <th></th>\n",
              "      <th></th>\n",
              "      <th></th>\n",
              "      <th></th>\n",
              "      <th></th>\n",
              "      <th></th>\n",
              "      <th></th>\n",
              "      <th></th>\n",
              "      <th></th>\n",
              "      <th></th>\n",
              "      <th></th>\n",
              "      <th></th>\n",
              "      <th></th>\n",
              "      <th></th>\n",
              "      <th></th>\n",
              "      <th></th>\n",
              "      <th></th>\n",
              "      <th></th>\n",
              "    </tr>\n",
              "  </thead>\n",
              "  <tbody>\n",
              "    <tr>\n",
              "      <th>12258</th>\n",
              "      <td>10006</td>\n",
              "      <td>142345</td>\n",
              "      <td>2164-10-23 21:09:00</td>\n",
              "      <td>2164-11-01 17:15:00</td>\n",
              "      <td>NaN</td>\n",
              "      <td>EMERGENCY</td>\n",
              "      <td>EMERGENCY ROOM ADMIT</td>\n",
              "      <td>HOME HEALTH CARE</td>\n",
              "      <td>Medicare</td>\n",
              "      <td>NaN</td>\n",
              "      <td>CATHOLIC</td>\n",
              "      <td>SEPARATED</td>\n",
              "      <td>BLACK/AFRICAN AMERICAN</td>\n",
              "      <td>2164-10-23 16:43:00</td>\n",
              "      <td>2164-10-23 23:00:00</td>\n",
              "      <td>SEPSIS</td>\n",
              "      <td>0</td>\n",
              "      <td>1</td>\n",
              "    </tr>\n",
              "    <tr>\n",
              "      <th>12263</th>\n",
              "      <td>10011</td>\n",
              "      <td>105331</td>\n",
              "      <td>2126-08-14 22:32:00</td>\n",
              "      <td>2126-08-28 18:59:00</td>\n",
              "      <td>2126-08-28 18:59:00</td>\n",
              "      <td>EMERGENCY</td>\n",
              "      <td>TRANSFER FROM HOSP/EXTRAM</td>\n",
              "      <td>DEAD/EXPIRED</td>\n",
              "      <td>Private</td>\n",
              "      <td>NaN</td>\n",
              "      <td>CATHOLIC</td>\n",
              "      <td>SINGLE</td>\n",
              "      <td>UNKNOWN/NOT SPECIFIED</td>\n",
              "      <td>NaN</td>\n",
              "      <td>NaN</td>\n",
              "      <td>HEPATITIS B</td>\n",
              "      <td>1</td>\n",
              "      <td>1</td>\n",
              "    </tr>\n",
              "    <tr>\n",
              "      <th>12265</th>\n",
              "      <td>10013</td>\n",
              "      <td>165520</td>\n",
              "      <td>2125-10-04 23:36:00</td>\n",
              "      <td>2125-10-07 15:13:00</td>\n",
              "      <td>2125-10-07 15:13:00</td>\n",
              "      <td>EMERGENCY</td>\n",
              "      <td>TRANSFER FROM HOSP/EXTRAM</td>\n",
              "      <td>DEAD/EXPIRED</td>\n",
              "      <td>Medicare</td>\n",
              "      <td>NaN</td>\n",
              "      <td>CATHOLIC</td>\n",
              "      <td>NaN</td>\n",
              "      <td>UNKNOWN/NOT SPECIFIED</td>\n",
              "      <td>NaN</td>\n",
              "      <td>NaN</td>\n",
              "      <td>SEPSIS</td>\n",
              "      <td>1</td>\n",
              "      <td>1</td>\n",
              "    </tr>\n",
              "    <tr>\n",
              "      <th>12269</th>\n",
              "      <td>10017</td>\n",
              "      <td>199207</td>\n",
              "      <td>2149-05-26 17:19:00</td>\n",
              "      <td>2149-06-03 18:42:00</td>\n",
              "      <td>NaN</td>\n",
              "      <td>EMERGENCY</td>\n",
              "      <td>EMERGENCY ROOM ADMIT</td>\n",
              "      <td>SNF</td>\n",
              "      <td>Medicare</td>\n",
              "      <td>NaN</td>\n",
              "      <td>CATHOLIC</td>\n",
              "      <td>DIVORCED</td>\n",
              "      <td>WHITE</td>\n",
              "      <td>2149-05-26 12:08:00</td>\n",
              "      <td>2149-05-26 19:45:00</td>\n",
              "      <td>HUMERAL FRACTURE</td>\n",
              "      <td>0</td>\n",
              "      <td>1</td>\n",
              "    </tr>\n",
              "    <tr>\n",
              "      <th>12270</th>\n",
              "      <td>10019</td>\n",
              "      <td>177759</td>\n",
              "      <td>2163-05-14 20:43:00</td>\n",
              "      <td>2163-05-15 12:00:00</td>\n",
              "      <td>2163-05-15 12:00:00</td>\n",
              "      <td>EMERGENCY</td>\n",
              "      <td>TRANSFER FROM HOSP/EXTRAM</td>\n",
              "      <td>DEAD/EXPIRED</td>\n",
              "      <td>Medicare</td>\n",
              "      <td>NaN</td>\n",
              "      <td>CATHOLIC</td>\n",
              "      <td>DIVORCED</td>\n",
              "      <td>WHITE</td>\n",
              "      <td>NaN</td>\n",
              "      <td>NaN</td>\n",
              "      <td>ALCOHOLIC HEPATITIS</td>\n",
              "      <td>1</td>\n",
              "      <td>1</td>\n",
              "    </tr>\n",
              "  </tbody>\n",
              "</table>\n",
              "</div>\n",
              "      <button class=\"colab-df-convert\" onclick=\"convertToInteractive('df-0680fac6-ce34-4b95-8ae6-506f0c3fad9f')\"\n",
              "              title=\"Convert this dataframe to an interactive table.\"\n",
              "              style=\"display:none;\">\n",
              "        \n",
              "  <svg xmlns=\"http://www.w3.org/2000/svg\" height=\"24px\"viewBox=\"0 0 24 24\"\n",
              "       width=\"24px\">\n",
              "    <path d=\"M0 0h24v24H0V0z\" fill=\"none\"/>\n",
              "    <path d=\"M18.56 5.44l.94 2.06.94-2.06 2.06-.94-2.06-.94-.94-2.06-.94 2.06-2.06.94zm-11 1L8.5 8.5l.94-2.06 2.06-.94-2.06-.94L8.5 2.5l-.94 2.06-2.06.94zm10 10l.94 2.06.94-2.06 2.06-.94-2.06-.94-.94-2.06-.94 2.06-2.06.94z\"/><path d=\"M17.41 7.96l-1.37-1.37c-.4-.4-.92-.59-1.43-.59-.52 0-1.04.2-1.43.59L10.3 9.45l-7.72 7.72c-.78.78-.78 2.05 0 2.83L4 21.41c.39.39.9.59 1.41.59.51 0 1.02-.2 1.41-.59l7.78-7.78 2.81-2.81c.8-.78.8-2.07 0-2.86zM5.41 20L4 18.59l7.72-7.72 1.47 1.35L5.41 20z\"/>\n",
              "  </svg>\n",
              "      </button>\n",
              "      \n",
              "  <style>\n",
              "    .colab-df-container {\n",
              "      display:flex;\n",
              "      flex-wrap:wrap;\n",
              "      gap: 12px;\n",
              "    }\n",
              "\n",
              "    .colab-df-convert {\n",
              "      background-color: #E8F0FE;\n",
              "      border: none;\n",
              "      border-radius: 50%;\n",
              "      cursor: pointer;\n",
              "      display: none;\n",
              "      fill: #1967D2;\n",
              "      height: 32px;\n",
              "      padding: 0 0 0 0;\n",
              "      width: 32px;\n",
              "    }\n",
              "\n",
              "    .colab-df-convert:hover {\n",
              "      background-color: #E2EBFA;\n",
              "      box-shadow: 0px 1px 2px rgba(60, 64, 67, 0.3), 0px 1px 3px 1px rgba(60, 64, 67, 0.15);\n",
              "      fill: #174EA6;\n",
              "    }\n",
              "\n",
              "    [theme=dark] .colab-df-convert {\n",
              "      background-color: #3B4455;\n",
              "      fill: #D2E3FC;\n",
              "    }\n",
              "\n",
              "    [theme=dark] .colab-df-convert:hover {\n",
              "      background-color: #434B5C;\n",
              "      box-shadow: 0px 1px 3px 1px rgba(0, 0, 0, 0.15);\n",
              "      filter: drop-shadow(0px 1px 2px rgba(0, 0, 0, 0.3));\n",
              "      fill: #FFFFFF;\n",
              "    }\n",
              "  </style>\n",
              "\n",
              "      <script>\n",
              "        const buttonEl =\n",
              "          document.querySelector('#df-0680fac6-ce34-4b95-8ae6-506f0c3fad9f button.colab-df-convert');\n",
              "        buttonEl.style.display =\n",
              "          google.colab.kernel.accessAllowed ? 'block' : 'none';\n",
              "\n",
              "        async function convertToInteractive(key) {\n",
              "          const element = document.querySelector('#df-0680fac6-ce34-4b95-8ae6-506f0c3fad9f');\n",
              "          const dataTable =\n",
              "            await google.colab.kernel.invokeFunction('convertToInteractive',\n",
              "                                                     [key], {});\n",
              "          if (!dataTable) return;\n",
              "\n",
              "          const docLinkHtml = 'Like what you see? Visit the ' +\n",
              "            '<a target=\"_blank\" href=https://colab.research.google.com/notebooks/data_table.ipynb>data table notebook</a>'\n",
              "            + ' to learn more about interactive tables.';\n",
              "          element.innerHTML = '';\n",
              "          dataTable['output_type'] = 'display_data';\n",
              "          await google.colab.output.renderOutput(dataTable, element);\n",
              "          const docLink = document.createElement('div');\n",
              "          docLink.innerHTML = docLinkHtml;\n",
              "          element.appendChild(docLink);\n",
              "        }\n",
              "      </script>\n",
              "    </div>\n",
              "  </div>\n",
              "  "
            ]
          },
          "metadata": {},
          "execution_count": 4
        }
      ],
      "source": [
        "# load dataset\n",
        "import pandas as pd\n",
        "data = pd.read_csv('/content/drive/MyDrive/Colab Notebooks/ADMISSIONS.csv',delimiter=',')\n",
        "data.set_index('row_id', inplace=True)\n",
        "data.head()"
      ]
    },
    {
      "cell_type": "code",
      "source": [
        "from google.colab import drive\n",
        "drive.mount('/content/drive')"
      ],
      "metadata": {
        "colab": {
          "base_uri": "https://localhost:8080/"
        },
        "id": "twsAUiSzVvI3",
        "outputId": "4d1917c6-9689-4c08-e51d-16d6c818683d"
      },
      "id": "twsAUiSzVvI3",
      "execution_count": null,
      "outputs": [
        {
          "output_type": "stream",
          "name": "stdout",
          "text": [
            "Mounted at /content/drive\n"
          ]
        }
      ]
    },
    {
      "cell_type": "markdown",
      "id": "1428e246",
      "metadata": {
        "id": "1428e246"
      },
      "source": [
        "## 2) 평균 입원시간"
      ]
    },
    {
      "cell_type": "code",
      "execution_count": null,
      "id": "0ddf581c",
      "metadata": {
        "colab": {
          "base_uri": "https://localhost:8080/"
        },
        "id": "0ddf581c",
        "outputId": "f382e615-95d9-41da-94bc-450aee66b64b"
      },
      "outputs": [
        {
          "output_type": "stream",
          "name": "stdout",
          "text": [
            "평균 입원일 :  8.775193798449612\n"
          ]
        }
      ],
      "source": [
        "# import libraries\n",
        "import datetime\n",
        "import numpy as np\n",
        "\n",
        "dateformat = \"%Y-%m-%d %H:%M:%S\"\n",
        "admit_dur = []\n",
        "\n",
        "for i in range(len(data)):\n",
        "    start_datetime = data['admittime'][data.index[i]]\n",
        "    end_datetime = data['dischtime'][data.index[i]]\n",
        "    \n",
        "    start_convert = datetime.datetime.strptime(start_datetime, dateformat)\n",
        "    end_convert = datetime.datetime.strptime(end_datetime, dateformat)\n",
        "    \n",
        "    admit_day = (end_convert-start_convert).days\n",
        "    admit_dur.append(admit_day)\n",
        "    \n",
        "print(\"평균 입원일 : \",np.mean(admit_dur))"
      ]
    },
    {
      "cell_type": "markdown",
      "id": "ea27260c",
      "metadata": {
        "id": "ea27260c"
      },
      "source": [
        "## 3) 입원 유형의 종류(admission_type)와 유형별 환자수"
      ]
    },
    {
      "cell_type": "code",
      "execution_count": null,
      "id": "7b42809e",
      "metadata": {
        "colab": {
          "base_uri": "https://localhost:8080/"
        },
        "id": "7b42809e",
        "outputId": "1d317235-b2f8-4be6-f0d5-159e0d8bd366"
      },
      "outputs": [
        {
          "output_type": "stream",
          "name": "stdout",
          "text": [
            "['EMERGENCY' 'ELECTIVE' 'URGENT']\n",
            "3\n",
            "EMERGENCY    119\n",
            "ELECTIVE       8\n",
            "URGENT         2\n",
            "Name: admission_type, dtype: int64\n"
          ]
        }
      ],
      "source": [
        "print(data['admission_type'].unique())\n",
        "print(data['admission_type'].nunique())\n",
        "print(data['admission_type'].value_counts())"
      ]
    },
    {
      "cell_type": "markdown",
      "id": "abff24b9",
      "metadata": {
        "id": "abff24b9"
      },
      "source": [
        "## 4) 진단명(diagnosis)의 종류와 진단별 환자수"
      ]
    },
    {
      "cell_type": "code",
      "execution_count": null,
      "id": "d86b3db8",
      "metadata": {
        "colab": {
          "base_uri": "https://localhost:8080/"
        },
        "id": "d86b3db8",
        "outputId": "2cf7bdc5-bc5f-4c17-c031-8644faca3808"
      },
      "outputs": [
        {
          "output_type": "stream",
          "name": "stdout",
          "text": [
            "['SEPSIS' 'HEPATITIS B' 'HUMERAL FRACTURE' 'ALCOHOLIC HEPATITIS'\n",
            " 'STROKE/TIA'\n",
            " ' MITRAL REGURGITATION;CORONARY ARTERY DISEASE\\\\CORONARY ARTERY BYPASS GRAFT WITH MVR  ? MITRAL VALVE REPLACEMENT /SDA'\n",
            " 'SYNCOPE;TELEMETRY' 'RIGHT HUMEROUS FRACTURE'\n",
            " 'RENAL FAILIURE-SYNCOPE-HYPERKALEMIA'\n",
            " 'RECURRENT LEFT CAROTID STENOSIS,PRE HYDRATION' 'FAILURE TO THRIVE'\n",
            " 'PULMONARY EDEMA\\\\CATH' 'UNSTABLE ANGINA' 'RESPIRATORY DISTRESS'\n",
            " 'METASTATIC MELANOMA;BRAIN METASTASIS' 'FEVER' 'BRAIN METASTASES'\n",
            " 'VARICEAL BLEED' 'LOWER GI BLEED' 'CHEST PAIN/ CATH'\n",
            " 'SUBDURAL HEMATOMA/S/P FALL' 'ESOPHAGEAL CANCER/SDA'\n",
            " 'S/P MOTORCYCLE ACCIDENT' 'SEIZURE' 'GASTROINTESTINAL BLEED'\n",
            " 'LUNG CANCER;SHORTNESS OF BREATH' 'HYPOTENSION'\n",
            " 'SEPSIS;PNEUMONIA;TELEMETRY' 'CONGESTIVE HEART FAILURE' 'UROSEPSIS'\n",
            " 'BASAL GANGLIN BLEED' 'OVERDOSE' 'CRITICAL AORTIC STENOSIS/HYPOTENSION'\n",
            " 'HYPOTENSION;TELEMETRY' 'SEPSIS;TELEMETRY'\n",
            " 'STATUS POST MOTOR VEHICLE ACCIDENT WITH INJURIES' 'TACHYPNEA;TELEMETRY'\n",
            " 'CHRONIC MYELOGENOUS LEUKEMIA;TRANSFUSION REACTION'\n",
            " 'HYPONATREMIA;URINARY TRACT INFECTION' 'HEADACHE' 'VF ARREST '\n",
            " 'PULMONARY EDEMA, MI' 'ACUTE CHOLECYSTITIS' 'LIVER FAILURE'\n",
            " 'LEFT HIP FRACTURE' 'S/P MOTOR VEHICLE ACCIDENT' 'ABSCESS'\n",
            " 'NON SMALL CELL CANCER;HYPOXIA' 'SHORTNESS OF BREATH' 'PNEUMONIA'\n",
            " 'ACUTE CHOLANGITIS' 'FEVER;URINARY TRACT INFECTION'\n",
            " 'SYNCOPE;TELEMETRY;INTRACRANIAL HEMORRHAGE' 'LEFT HIP OA/SDA'\n",
            " 'MEDIASTINAL ADENOPATHY' 'FACIAL NUMBNESS' 'AROMEGLEY;BURKITTS LYMPHOMA'\n",
            " 'STEMI;' 'TRACHEAL ESOPHAGEAL FISTULA' 'CHOLECYSTITIS' 'CELLULITIS'\n",
            " 'ABDOMINAL PAIN' 'ASTHMA;CHRONIC OBST PULM DISEASE'\n",
            " 'ELEVATED LIVER FUNCTIONS;S/P LIVER TRANSPLANT'\n",
            " 'HYPOTENSION;UNRESPONSIVE' 'URINARY TRACT INFECTION;PYELONEPHRITIS'\n",
            " 'SEPSIS; UTI' 'UTI/PYELONEPHRITIS' 'S/P FALL' 'TRACHEAL STENOSIS'\n",
            " 'INFERIOR MYOCARDIAL INFARCTION\\\\CATH' 'HEPATIC ENCEP' 'CHEST PAIN'\n",
            " 'RENAL CANCER/SDA' 'UPPER GI BLEED' 'PNEUMONIA/HYPOGLCEMIA/SYNCOPE'\n",
            " 'ASTHMA/COPD FLARE' 'VOLVULUS' 'SEIZURE;STATUS EPILEPTICUS'\n",
            " 'HYPOGLYCEMIA' 'CEREBROVASCULAR ACCIDENT' 'METASTIC MELANOMA;ANEMIA'\n",
            " 'HYPOTENSION, RENAL FAILURE' 'ACUTE SUBDURAL HEMATOMA'\n",
            " 'ESOPHAGEAL CA/SDA' 'MI CHF' 'PLEURAL EFFUSION'\n",
            " 'ACUTE PULMONARY EMBOLISM' 'PNEUMONIA;TELEMETRY'\n",
            " 'CORONARY ARTERY DISEASE\\\\CORONARY ARTERY BYPASS GRAFT /SDA'\n",
            " 'PERICARDIAL EFFUSION' 'ALTERED MENTAL STATUS'\n",
            " 'ACUTE RESPIRATORY DISTRESS SYNDROME;ACUTE RENAL FAILURE' 'BRADYCARDIA'\n",
            " 'CHOLANGITIS']\n",
            "95\n",
            "SEPSIS                                  10\n",
            "PNEUMONIA                                8\n",
            "SHORTNESS OF BREATH                      4\n",
            "FEVER                                    4\n",
            "CONGESTIVE HEART FAILURE                 3\n",
            "                                        ..\n",
            "SEPSIS;TELEMETRY                         1\n",
            "HYPOTENSION;TELEMETRY                    1\n",
            "CRITICAL AORTIC STENOSIS/HYPOTENSION     1\n",
            "OVERDOSE                                 1\n",
            "CHOLANGITIS                              1\n",
            "Name: diagnosis, Length: 95, dtype: int64\n"
          ]
        }
      ],
      "source": [
        "print(data['diagnosis'].unique())\n",
        "print(data['diagnosis'].nunique())\n",
        "print(data['diagnosis'].value_counts())"
      ]
    },
    {
      "cell_type": "markdown",
      "id": "5103f414",
      "metadata": {
        "id": "5103f414"
      },
      "source": [
        "# 2. PIE CHART"
      ]
    },
    {
      "cell_type": "code",
      "execution_count": null,
      "id": "512b9159",
      "metadata": {
        "id": "512b9159"
      },
      "outputs": [],
      "source": [
        "# import libraries\n",
        "import pandas as pd"
      ]
    },
    {
      "cell_type": "markdown",
      "id": "3d82c21c",
      "metadata": {
        "id": "3d82c21c"
      },
      "source": [
        "## 1) religion"
      ]
    },
    {
      "cell_type": "code",
      "execution_count": null,
      "id": "26f571c1",
      "metadata": {
        "scrolled": true,
        "colab": {
          "base_uri": "https://localhost:8080/",
          "height": 265
        },
        "id": "26f571c1",
        "outputId": "22533aae-3cda-4269-c347-baa767cad5e0"
      },
      "outputs": [
        {
          "output_type": "execute_result",
          "data": {
            "text/plain": [
              "<matplotlib.axes._subplots.AxesSubplot at 0x7fbf4ed0f450>"
            ]
          },
          "metadata": {},
          "execution_count": 9
        },
        {
          "output_type": "display_data",
          "data": {
            "text/plain": [
              "<Figure size 432x288 with 1 Axes>"
            ],
            "image/png": "[encoded data removed]"
          },
          "metadata": {}
        }
      ],
      "source": [
        "data = pd.read_csv('/content/drive/MyDrive/Colab Notebooks/ADMISSIONS.csv')\n",
        "data.groupby(['religion']).count()['row_id'].plot(kind='pie')"
      ]
    },
    {
      "cell_type": "markdown",
      "id": "a8a3d990",
      "metadata": {
        "id": "a8a3d990"
      },
      "source": [
        "## 2) marital_status"
      ]
    },
    {
      "cell_type": "code",
      "execution_count": null,
      "id": "bac16729",
      "metadata": {
        "colab": {
          "base_uri": "https://localhost:8080/",
          "height": 265
        },
        "id": "bac16729",
        "outputId": "8fb39383-1189-4a32-cab4-e6bc4f7e0dde"
      },
      "outputs": [
        {
          "output_type": "execute_result",
          "data": {
            "text/plain": [
              "<matplotlib.axes._subplots.AxesSubplot at 0x7fbf4e7ac250>"
            ]
          },
          "metadata": {},
          "execution_count": 10
        },
        {
          "output_type": "display_data",
          "data": {
            "text/plain": [
              "<Figure size 432x288 with 1 Axes>"
            ],
            "image/png": "[encoded data removed]"
          },
          "metadata": {}
        }
      ],
      "source": [
        "data = pd.read_csv('/content/drive/MyDrive/Colab Notebooks/ADMISSIONS.csv')\n",
        "data.groupby(['marital_status']).count()['row_id'].plot(kind='pie')"
      ]
    },
    {
      "cell_type": "markdown",
      "id": "c25ffdbd",
      "metadata": {
        "id": "c25ffdbd"
      },
      "source": [
        "## 3) ethnicity"
      ]
    },
    {
      "cell_type": "code",
      "execution_count": null,
      "id": "e8f7eb19",
      "metadata": {
        "colab": {
          "base_uri": "https://localhost:8080/",
          "height": 265
        },
        "id": "e8f7eb19",
        "outputId": "8c7758b5-af31-467f-dd60-4c752866c6a3"
      },
      "outputs": [
        {
          "output_type": "execute_result",
          "data": {
            "text/plain": [
              "<matplotlib.axes._subplots.AxesSubplot at 0x7fbf4e782c50>"
            ]
          },
          "metadata": {},
          "execution_count": 11
        },
        {
          "output_type": "display_data",
          "data": {
            "text/plain": [
              "<Figure size 432x288 with 1 Axes>"
            ],
            "image/png": "[encoded data removed]"
          },
          "metadata": {}
        }
      ],
      "source": [
        "data = pd.read_csv('/content/drive/MyDrive/Colab Notebooks/ADMISSIONS.csv')\n",
        "data.groupby(['ethnicity']).count()['row_id'].plot(kind='pie')"
      ]
    },
    {
      "cell_type": "markdown",
      "id": "0a1b42f5",
      "metadata": {
        "id": "0a1b42f5"
      },
      "source": [
        "# 3. BAR GRAPTH"
      ]
    },
    {
      "cell_type": "markdown",
      "id": "d7873327",
      "metadata": {
        "id": "d7873327"
      },
      "source": [
        "## 1) religion"
      ]
    },
    {
      "cell_type": "code",
      "execution_count": null,
      "id": "5dedfd78",
      "metadata": {
        "scrolled": true,
        "colab": {
          "base_uri": "https://localhost:8080/",
          "height": 402
        },
        "id": "5dedfd78",
        "outputId": "13b339fe-e705-439f-f1e2-069c39c7c0ea"
      },
      "outputs": [
        {
          "output_type": "execute_result",
          "data": {
            "text/plain": [
              "<matplotlib.axes._subplots.AxesSubplot at 0x7fbf4ec66650>"
            ]
          },
          "metadata": {},
          "execution_count": 12
        },
        {
          "output_type": "display_data",
          "data": {
            "text/plain": [
              "<Figure size 432x288 with 1 Axes>"
            ],
            "image/png": "[encoded data removed]"
          },
          "metadata": {
            "needs_background": "light"
          }
        }
      ],
      "source": [
        "data.groupby(['religion']).count()['row_id'].plot(kind='bar')"
      ]
    },
    {
      "cell_type": "markdown",
      "id": "b8adf3f2",
      "metadata": {
        "id": "b8adf3f2"
      },
      "source": [
        "## 2) marital_status"
      ]
    },
    {
      "cell_type": "code",
      "execution_count": null,
      "id": "c23244e7",
      "metadata": {
        "colab": {
          "base_uri": "https://localhost:8080/",
          "height": 395
        },
        "id": "c23244e7",
        "outputId": "1194ff6c-db3b-41d5-b81e-df0cd2bea191"
      },
      "outputs": [
        {
          "output_type": "execute_result",
          "data": {
            "text/plain": [
              "<matplotlib.axes._subplots.AxesSubplot at 0x7fbf4e688450>"
            ]
          },
          "metadata": {},
          "execution_count": 13
        },
        {
          "output_type": "display_data",
          "data": {
            "text/plain": [
              "<Figure size 432x288 with 1 Axes>"
            ],
            "image/png": "[encoded data removed]"
          },
          "metadata": {
            "needs_background": "light"
          }
        }
      ],
      "source": [
        "data.groupby(['marital_status']).count()['row_id'].plot(kind='bar')"
      ]
    },
    {
      "cell_type": "markdown",
      "id": "c5449c7e",
      "metadata": {
        "id": "c5449c7e"
      },
      "source": [
        "## 3) ethnicity"
      ]
    },
    {
      "cell_type": "code",
      "execution_count": null,
      "id": "1d381bb4",
      "metadata": {
        "colab": {
          "base_uri": "https://localhost:8080/",
          "height": 619
        },
        "id": "1d381bb4",
        "outputId": "c402b906-d1e0-4a53-c233-370f725d3b1e"
      },
      "outputs": [
        {
          "output_type": "execute_result",
          "data": {
            "text/plain": [
              "<matplotlib.axes._subplots.AxesSubplot at 0x7fbf4e6037d0>"
            ]
          },
          "metadata": {},
          "execution_count": 14
        },
        {
          "output_type": "display_data",
          "data": {
            "text/plain": [
              "<Figure size 432x288 with 1 Axes>"
            ],
            "image/png": "[encoded data removed]"
          },
          "metadata": {
            "needs_background": "light"
          }
        }
      ],
      "source": [
        "data.groupby(['ethnicity']).count()['row_id'].plot(kind='bar')"
      ]
    },
    {
      "cell_type": "markdown",
      "id": "9a3b0c99",
      "metadata": {
        "id": "9a3b0c99"
      },
      "source": [
        "# 4. gender 항목을 황용해 서로 공유하는 그래프 만들기"
      ]
    },
    {
      "cell_type": "code",
      "execution_count": null,
      "id": "591b0b38",
      "metadata": {
        "id": "591b0b38"
      },
      "outputs": [],
      "source": [
        "import pandas as pd\n",
        "data = pd.read_csv('/content/drive/MyDrive/Colab Notebooks/PATIENTS.csv')\n",
        "pdata = pd.read_csv('/content/drive/MyDrive/Colab Notebooks/ADMISSIONS.csv')\n",
        "mergedata = pd.merge(data, pdata, on= 'subject_id', how='inner')"
      ]
    },
    {
      "cell_type": "markdown",
      "id": "4bd1f3ea",
      "metadata": {
        "id": "4bd1f3ea"
      },
      "source": [
        "## 1) religion"
      ]
    },
    {
      "cell_type": "code",
      "execution_count": null,
      "id": "2eeaff04",
      "metadata": {
        "colab": {
          "base_uri": "https://localhost:8080/",
          "height": 402
        },
        "id": "2eeaff04",
        "outputId": "2c7c4654-d816-45a6-8609-e383d151f9c8"
      },
      "outputs": [
        {
          "output_type": "execute_result",
          "data": {
            "text/plain": [
              "<matplotlib.axes._subplots.AxesSubplot at 0x7fbf4e657510>"
            ]
          },
          "metadata": {},
          "execution_count": 16
        },
        {
          "output_type": "display_data",
          "data": {
            "text/plain": [
              "<Figure size 432x288 with 1 Axes>"
            ],
            "image/png": "[encoded data removed]"
          },
          "metadata": {
            "needs_background": "light"
          }
        }
      ],
      "source": [
        "mergedata.groupby(['religion','gender']).size().unstack().plot(kind=\"bar\",stacked=True)"
      ]
    },
    {
      "cell_type": "markdown",
      "id": "32cb4904",
      "metadata": {
        "id": "32cb4904"
      },
      "source": [
        "## 2) marital_status"
      ]
    },
    {
      "cell_type": "code",
      "execution_count": null,
      "id": "e02b7576",
      "metadata": {
        "colab": {
          "base_uri": "https://localhost:8080/",
          "height": 395
        },
        "id": "e02b7576",
        "outputId": "2bd5b5a5-8356-40cf-8415-7e9422f75a9b"
      },
      "outputs": [
        {
          "output_type": "execute_result",
          "data": {
            "text/plain": [
              "<matplotlib.axes._subplots.AxesSubplot at 0x7fbf4e46a090>"
            ]
          },
          "metadata": {},
          "execution_count": 17
        },
        {
          "output_type": "display_data",
          "data": {
            "text/plain": [
              "<Figure size 432x288 with 1 Axes>"
            ],
            "image/png": "[encoded data removed]"
          },
          "metadata": {
            "needs_background": "light"
          }
        }
      ],
      "source": [
        "mergedata.groupby(['marital_status','gender']).size().unstack().plot(kind=\"bar\",stacked=True)"
      ]
    },
    {
      "cell_type": "markdown",
      "id": "44cb9768",
      "metadata": {
        "id": "44cb9768"
      },
      "source": [
        "## 3) ethnicity"
      ]
    },
    {
      "cell_type": "code",
      "execution_count": null,
      "id": "81706bcd",
      "metadata": {
        "colab": {
          "base_uri": "https://localhost:8080/",
          "height": 619
        },
        "id": "81706bcd",
        "outputId": "6c76bc6c-9f3d-4f2f-fff9-aa3b37be0c30"
      },
      "outputs": [
        {
          "output_type": "execute_result",
          "data": {
            "text/plain": [
              "<matplotlib.axes._subplots.AxesSubplot at 0x7fbf4e4e3450>"
            ]
          },
          "metadata": {},
          "execution_count": 18
        },
        {
          "output_type": "display_data",
          "data": {
            "text/plain": [
              "<Figure size 432x288 with 1 Axes>"
            ],
            "image/png": "[encoded data removed]"
          },
          "metadata": {
            "needs_background": "light"
          }
        }
      ],
      "source": [
        "mergedata.groupby(['ethnicity','gender']).size().unstack().plot(kind=\"bar\",stacked=True)"
      ]
    }
  ],
  "metadata": {
    "kernelspec": {
      "display_name": "Python 3 (ipykernel)",
      "language": "python",
      "name": "python3"
    },
    "language_info": {
      "codemirror_mode": {
        "name": "ipython",
        "version": 3
      },
      "file_extension": ".py",
      "mimetype": "text/x-python",
      "name": "python",
      "nbconvert_exporter": "python",
      "pygments_lexer": "ipython3",
      "version": "3.9.4"
    },
    "colab": {
      "provenance": [],
      "include_colab_link": true
    }
  },
  "nbformat": 4,
  "nbformat_minor": 5
}