{
  "nbformat": 4,
  "nbformat_minor": 0,
  "metadata": {
    "colab": {
      "provenance": [],
      "mount_file_id": "1SPC1RufRYrG_fgMQAFv6pBHhdEJT7PHH",
      "authorship_tag": "ABX9TyPhShlcz5rb6nek7kPYCf3B",
      "include_colab_link": true
    },
    "kernelspec": {
      "name": "python3",
      "display_name": "Python 3"
    },
    "language_info": {
      "name": "python"
    }
  },
  "cells": [
    {
      "cell_type": "markdown",
      "metadata": {
        "id": "view-in-github",
        "colab_type": "text"
      },
      "source": [
        "<a href=\"https://colab.research.google.com/github/Jueunkim429/Colab-Notebooks/blob/main/Squat.ipynb\" target=\"_parent\"><img src=\"https://colab.research.google.com/assets/colab-badge.svg\" alt=\"Open In Colab\"/></a>"
      ]
    },
    {
      "cell_type": "markdown",
      "source": [
        "# 모션캡처 결과로 계산된 무릎 각도 데이터 탐색하기"
      ],
      "metadata": {
        "id": "AqEIeKhzuR1W"
      }
    },
    {
      "cell_type": "code",
      "execution_count": 1,
      "metadata": {
        "colab": {
          "base_uri": "https://localhost:8080/",
          "height": 206
        },
        "id": "qCkID-Tpt0Yl",
        "outputId": "ca9a462c-b9fc-4366-e64a-bed675508692"
      },
      "outputs": [
        {
          "output_type": "execute_result",
          "data": {
            "text/plain": [
              "   Frame#    Time      Angle\n",
              "0    1000  16.650  160.52260\n",
              "1    1001  16.667  160.53308\n",
              "2    1002  16.683  160.54486\n",
              "3    1003  16.700  160.55446\n",
              "4    1004  16.717  160.55936"
            ],
            "text/html": [
              "\n",
              "  <div id=\"df-88057adc-64a9-4d68-b0d1-3b34e90c19b0\">\n",
              "    <div class=\"colab-df-container\">\n",
              "      <div>\n",
              "<style scoped>\n",
              "    .dataframe tbody tr th:only-of-type {\n",
              "        vertical-align: middle;\n",
              "    }\n",
              "\n",
              "    .dataframe tbody tr th {\n",
              "        vertical-align: top;\n",
              "    }\n",
              "\n",
              "    .dataframe thead th {\n",
              "        text-align: right;\n",
              "    }\n",
              "</style>\n",
              "<table border=\"1\" class=\"dataframe\">\n",
              "  <thead>\n",
              "    <tr style=\"text-align: right;\">\n",
              "      <th></th>\n",
              "      <th>Frame#</th>\n",
              "      <th>Time</th>\n",
              "      <th>Angle</th>\n",
              "    </tr>\n",
              "  </thead>\n",
              "  <tbody>\n",
              "    <tr>\n",
              "      <th>0</th>\n",
              "      <td>1000</td>\n",
              "      <td>16.650</td>\n",
              "      <td>160.52260</td>\n",
              "    </tr>\n",
              "    <tr>\n",
              "      <th>1</th>\n",
              "      <td>1001</td>\n",
              "      <td>16.667</td>\n",
              "      <td>160.53308</td>\n",
              "    </tr>\n",
              "    <tr>\n",
              "      <th>2</th>\n",
              "      <td>1002</td>\n",
              "      <td>16.683</td>\n",
              "      <td>160.54486</td>\n",
              "    </tr>\n",
              "    <tr>\n",
              "      <th>3</th>\n",
              "      <td>1003</td>\n",
              "      <td>16.700</td>\n",
              "      <td>160.55446</td>\n",
              "    </tr>\n",
              "    <tr>\n",
              "      <th>4</th>\n",
              "      <td>1004</td>\n",
              "      <td>16.717</td>\n",
              "      <td>160.55936</td>\n",
              "    </tr>\n",
              "  </tbody>\n",
              "</table>\n",
              "</div>\n",
              "      <button class=\"colab-df-convert\" onclick=\"convertToInteractive('df-88057adc-64a9-4d68-b0d1-3b34e90c19b0')\"\n",
              "              title=\"Convert this dataframe to an interactive table.\"\n",
              "              style=\"display:none;\">\n",
              "        \n",
              "  <svg xmlns=\"http://www.w3.org/2000/svg\" height=\"24px\"viewBox=\"0 0 24 24\"\n",
              "       width=\"24px\">\n",
              "    <path d=\"M0 0h24v24H0V0z\" fill=\"none\"/>\n",
              "    <path d=\"M18.56 5.44l.94 2.06.94-2.06 2.06-.94-2.06-.94-.94-2.06-.94 2.06-2.06.94zm-11 1L8.5 8.5l.94-2.06 2.06-.94-2.06-.94L8.5 2.5l-.94 2.06-2.06.94zm10 10l.94 2.06.94-2.06 2.06-.94-2.06-.94-.94-2.06-.94 2.06-2.06.94z\"/><path d=\"M17.41 7.96l-1.37-1.37c-.4-.4-.92-.59-1.43-.59-.52 0-1.04.2-1.43.59L10.3 9.45l-7.72 7.72c-.78.78-.78 2.05 0 2.83L4 21.41c.39.39.9.59 1.41.59.51 0 1.02-.2 1.41-.59l7.78-7.78 2.81-2.81c.8-.78.8-2.07 0-2.86zM5.41 20L4 18.59l7.72-7.72 1.47 1.35L5.41 20z\"/>\n",
              "  </svg>\n",
              "      </button>\n",
              "      \n",
              "  <style>\n",
              "    .colab-df-container {\n",
              "      display:flex;\n",
              "      flex-wrap:wrap;\n",
              "      gap: 12px;\n",
              "    }\n",
              "\n",
              "    .colab-df-convert {\n",
              "      background-color: #E8F0FE;\n",
              "      border: none;\n",
              "      border-radius: 50%;\n",
              "      cursor: pointer;\n",
              "      display: none;\n",
              "      fill: #1967D2;\n",
              "      height: 32px;\n",
              "      padding: 0 0 0 0;\n",
              "      width: 32px;\n",
              "    }\n",
              "\n",
              "    .colab-df-convert:hover {\n",
              "      background-color: #E2EBFA;\n",
              "      box-shadow: 0px 1px 2px rgba(60, 64, 67, 0.3), 0px 1px 3px 1px rgba(60, 64, 67, 0.15);\n",
              "      fill: #174EA6;\n",
              "    }\n",
              "\n",
              "    [theme=dark] .colab-df-convert {\n",
              "      background-color: #3B4455;\n",
              "      fill: #D2E3FC;\n",
              "    }\n",
              "\n",
              "    [theme=dark] .colab-df-convert:hover {\n",
              "      background-color: #434B5C;\n",
              "      box-shadow: 0px 1px 3px 1px rgba(0, 0, 0, 0.15);\n",
              "      filter: drop-shadow(0px 1px 2px rgba(0, 0, 0, 0.3));\n",
              "      fill: #FFFFFF;\n",
              "    }\n",
              "  </style>\n",
              "\n",
              "      <script>\n",
              "        const buttonEl =\n",
              "          document.querySelector('#df-88057adc-64a9-4d68-b0d1-3b34e90c19b0 button.colab-df-convert');\n",
              "        buttonEl.style.display =\n",
              "          google.colab.kernel.accessAllowed ? 'block' : 'none';\n",
              "\n",
              "        async function convertToInteractive(key) {\n",
              "          const element = document.querySelector('#df-88057adc-64a9-4d68-b0d1-3b34e90c19b0');\n",
              "          const dataTable =\n",
              "            await google.colab.kernel.invokeFunction('convertToInteractive',\n",
              "                                                     [key], {});\n",
              "          if (!dataTable) return;\n",
              "\n",
              "          const docLinkHtml = 'Like what you see? Visit the ' +\n",
              "            '<a target=\"_blank\" href=https://colab.research.google.com/notebooks/data_table.ipynb>data table notebook</a>'\n",
              "            + ' to learn more about interactive tables.';\n",
              "          element.innerHTML = '';\n",
              "          dataTable['output_type'] = 'display_data';\n",
              "          await google.colab.output.renderOutput(dataTable, element);\n",
              "          const docLink = document.createElement('div');\n",
              "          docLink.innerHTML = docLinkHtml;\n",
              "          element.appendChild(docLink);\n",
              "        }\n",
              "      </script>\n",
              "    </div>\n",
              "  </div>\n",
              "  "
            ]
          },
          "metadata": {},
          "execution_count": 1
        }
      ],
      "source": [
        "import pandas as pd\n",
        "# load dataset\n",
        "data = pd.read_csv(\"/content/drive/MyDrive/Colab Notebooks/squat_angle.csv\", delimiter=',')\n",
        "data.head()"
      ]
    },
    {
      "cell_type": "code",
      "source": [
        "data['Angle'].plot()"
      ],
      "metadata": {
        "colab": {
          "base_uri": "https://localhost:8080/",
          "height": 282
        },
        "id": "h4s-l2RNuoxC",
        "outputId": "ebae857b-606c-408b-9d63-9c9889cf0451"
      },
      "execution_count": 2,
      "outputs": [
        {
          "output_type": "execute_result",
          "data": {
            "text/plain": [
              "<matplotlib.axes._subplots.AxesSubplot at 0x7f8087487bd0>"
            ]
          },
          "metadata": {},
          "execution_count": 2
        },
        {
          "output_type": "display_data",
          "data": {
            "text/plain": [
              "<Figure size 432x288 with 1 Axes>"
            ],
            "image/png": "[encoded data removed]"
          },
          "metadata": {
            "needs_background": "light"
          }
        }
      ]
    },
    {
      "cell_type": "code",
      "source": [
        "import numpy as np\n",
        "\n",
        "Fs = 60 #sampling rate; 60HZ\n",
        "varCount =0 #variable for count proper squat motion\n",
        "varHold = np.zeros(len(data['Angle'])) #variable for counting time point holding the sqaut posture\n",
        "varDur = [] #list variable for storing posture duration\n",
        "flag=np.zeros(len(data['Angle'])) #array for flag vales per time point\n",
        "\n",
        "Thres = 150 #arbitrary angle for thresholding; 150 deg\n",
        "\n",
        "for i in range(len(data['Angle'])):\n",
        "  if data['Angle'][i]<Thres:\n",
        "    flag[i]=1\n",
        "  else:\n",
        "    flag[i]=0\n",
        "  \n",
        "  varHold[i] = varHold[i-1] + flag[i] #cumulate the flag value\n",
        "  \n",
        "  if varHold[i] == varHold[i-1] and varHold[i]>40: #flag becomes zero and cumulated flag reache to few seconds.\n",
        "    varCount+=1\n",
        "    varDur.append(varHold[i])\n",
        "    varHold[i]=0\n",
        "\n",
        "print(varCount)\n",
        "print(varDur)\n",
        "print(\"Given Data performed {0:d} times of Sqaut with correct posture\".format(varCount))\n",
        "averageDur = sum(varDur)/len(varDur)\n",
        "print(averageDur/Fs)\n",
        "print('Average posture duration is {0: .2f} sec'.format(averageDur/Fs))"
      ],
      "metadata": {
        "colab": {
          "base_uri": "https://localhost:8080/"
        },
        "id": "W4sBNNl8usrP",
        "outputId": "96487568-bcfd-497b-c958-225db8d4d4a1"
      },
      "execution_count": 4,
      "outputs": [
        {
          "output_type": "stream",
          "name": "stdout",
          "text": [
            "25\n",
            "[51.0, 60.0, 66.0, 57.0, 62.0, 59.0, 58.0, 56.0, 60.0, 62.0, 56.0, 56.0, 59.0, 63.0, 60.0, 63.0, 58.0, 60.0, 53.0, 53.0, 56.0, 62.0, 61.0, 62.0, 61.0]\n",
            "Given Data performed 25 times of Sqaut with correct posture\n",
            "0.9826666666666667\n",
            "Average posture duration is  0.98 sec\n"
          ]
        }
      ]
    }
  ]
}